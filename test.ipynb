d = 3
print ("d = ", d)